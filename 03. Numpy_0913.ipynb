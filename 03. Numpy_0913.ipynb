{
 "cells": [
  {
   "cell_type": "markdown",
   "id": "ac6b4956",
   "metadata": {},
   "source": [
    "### 넘파이 ndarray 개요"
   ]
  },
  {
   "cell_type": "code",
   "execution_count": 2,
   "id": "4776eb33",
   "metadata": {
    "scrolled": true
   },
   "outputs": [],
   "source": [
    "import numpy as np"
   ]
  },
  {
   "cell_type": "code",
   "execution_count": 6,
   "id": "abd5be6e",
   "metadata": {
    "scrolled": true
   },
   "outputs": [
    {
     "name": "stdout",
     "output_type": "stream",
     "text": [
      "array1 type: <class 'numpy.ndarray'>\n",
      "array1 shape: (1, 3)\n",
      "array1 dimension: 2\n"
     ]
    }
   ],
   "source": [
    "array1 = np.array([[1,2,3]])\n",
    "print(\"array1 type:\", type(array1))\n",
    "print(\"array1 shape:\", array1.shape)\n",
    "print(\"array1 dimension:\", array1.ndim)"
   ]
  },
  {
   "cell_type": "markdown",
   "id": "c514282d",
   "metadata": {},
   "source": [
    "### ndarray의 데이터 타입"
   ]
  },
  {
   "cell_type": "code",
   "execution_count": 10,
   "id": "a5ee8e71",
   "metadata": {},
   "outputs": [],
   "source": [
    "array1 = np.array([1,2,3])\n",
    "array2 = np.array([1,2,'test'])\n",
    "array3 = np.array([1,2,3.0])"
   ]
  },
  {
   "cell_type": "code",
   "execution_count": 11,
   "id": "8b66b828",
   "metadata": {},
   "outputs": [
    {
     "name": "stdout",
     "output_type": "stream",
     "text": [
      "[1 2 3] int32\n",
      "['1' '2' 'test'] <U11\n",
      "[1. 2. 3.] float64\n"
     ]
    }
   ],
   "source": [
    "#타입 확인\n",
    "print(array1, array1.dtype)\n",
    "print(array2, array2.dtype)\n",
    "print(array3, array3.dtype)"
   ]
  },
  {
   "cell_type": "code",
   "execution_count": 12,
   "id": "7afe9e17",
   "metadata": {},
   "outputs": [
    {
     "name": "stdout",
     "output_type": "stream",
     "text": [
      "[1. 2. 3.] float64\n",
      "[1 2 3] int32\n"
     ]
    }
   ],
   "source": [
    "#타입 변경\n",
    "array1_float = array1.astype('float64') # int -> float\n",
    "print(array1_float, array1_float.dtype)\n",
    "array3_float = array3.astype('int32') # float -> int\n",
    "print(array3_float, array3_float.dtype)"
   ]
  },
  {
   "cell_type": "markdown",
   "id": "9151d7eb",
   "metadata": {},
   "source": [
    "### ndarray를 편리하게 생성하기 "
   ]
  },
  {
   "cell_type": "code",
   "execution_count": 14,
   "id": "1c42c7a7",
   "metadata": {},
   "outputs": [
    {
     "name": "stdout",
     "output_type": "stream",
     "text": [
      "[0 1 2 3 4 5 6 7 8 9] int32 (10,)\n"
     ]
    }
   ],
   "source": [
    "#arange\n",
    "sequence_array = np.arange(10)\n",
    "print(sequence_array, sequence_array.dtype, sequence_array.shape)"
   ]
  },
  {
   "cell_type": "code",
   "execution_count": 17,
   "id": "cabd3857",
   "metadata": {},
   "outputs": [
    {
     "name": "stdout",
     "output_type": "stream",
     "text": [
      "[[0. 0.]\n",
      " [0. 0.]\n",
      " [0. 0.]] float64 (3, 2)\n"
     ]
    }
   ],
   "source": [
    "#zeros\n",
    "zero_array = np.zeros((3,2)) # default: float64\n",
    "print(zero_array, zero_array.dtype, zero_array.shape)"
   ]
  },
  {
   "cell_type": "code",
   "execution_count": 18,
   "id": "bb01d31f",
   "metadata": {},
   "outputs": [
    {
     "name": "stdout",
     "output_type": "stream",
     "text": [
      "[[1 1]\n",
      " [1 1]\n",
      " [1 1]] int32 (3, 2)\n"
     ]
    }
   ],
   "source": [
    "#ones\n",
    "one_array = np.ones((3,2),dtype='int32') # int32 지정 \n",
    "print(one_array, one_array.dtype, one_array.shape)"
   ]
  },
  {
   "cell_type": "markdown",
   "id": "899c0ca5",
   "metadata": {},
   "source": [
    "### ndarray의 차원과 크기 변경"
   ]
  },
  {
   "cell_type": "code",
   "execution_count": 19,
   "id": "95f27763",
   "metadata": {},
   "outputs": [],
   "source": [
    "array1 = np.arange(10)"
   ]
  },
  {
   "cell_type": "code",
   "execution_count": 21,
   "id": "fccf3803",
   "metadata": {},
   "outputs": [
    {
     "name": "stdout",
     "output_type": "stream",
     "text": [
      "array1:\n",
      " [0 1 2 3 4 5 6 7 8 9]\n",
      "array2:\n",
      " [[0 1 2 3 4]\n",
      " [5 6 7 8 9]]\n"
     ]
    }
   ],
   "source": [
    "array2 = array1.reshape(2,5)\n",
    "print('array1:\\n', array1)\n",
    "print('array2:\\n', array2)"
   ]
  },
  {
   "cell_type": "code",
   "execution_count": 22,
   "id": "2d5d517c",
   "metadata": {},
   "outputs": [
    {
     "name": "stdout",
     "output_type": "stream",
     "text": [
      "array3 shape: (2, 5)\n"
     ]
    }
   ],
   "source": [
    "array3 = array1.reshape(-1,5)\n",
    "print('array3 shape:', array3.shape)"
   ]
  },
  {
   "cell_type": "markdown",
   "id": "b4fc30ca",
   "metadata": {},
   "source": [
    "### 넘파이의 ndarray의 데이터 세트 선택하기 "
   ]
  },
  {
   "cell_type": "code",
   "execution_count": 27,
   "id": "c521580f",
   "metadata": {},
   "outputs": [
    {
     "name": "stdout",
     "output_type": "stream",
     "text": [
      "array1: [1 2 3 4 5 6 7 8 9]\n"
     ]
    }
   ],
   "source": [
    "array1 = np.arange(1,10)\n",
    "print('array1:', array1)"
   ]
  },
  {
   "cell_type": "code",
   "execution_count": 28,
   "id": "c6573df9",
   "metadata": {},
   "outputs": [
    {
     "name": "stdout",
     "output_type": "stream",
     "text": [
      "value: 3\n"
     ]
    }
   ],
   "source": [
    "#단일값추출\n",
    "value = array1[2] # 3번째 index \n",
    "print('value:', value)"
   ]
  },
  {
   "cell_type": "code",
   "execution_count": 29,
   "id": "b3cfabde",
   "metadata": {},
   "outputs": [
    {
     "name": "stdout",
     "output_type": "stream",
     "text": [
      "[1 2 3]\n"
     ]
    }
   ],
   "source": [
    "#슬라이싱\n",
    "array2 = array1[0:3] # 3번째 index까지 \n",
    "print(array2)"
   ]
  },
  {
   "cell_type": "code",
   "execution_count": 32,
   "id": "7733f5fb",
   "metadata": {},
   "outputs": [
    {
     "name": "stdout",
     "output_type": "stream",
     "text": [
      "array3[[0,1],2]=> [3, 6]\n",
      "array3[[0,1],0:2]=> [[1, 2], [4, 5]]\n"
     ]
    }
   ],
   "source": [
    "#팬시인덱싱\n",
    "array3 = array1.reshape(3,3) # 1차원 -> 2차원\n",
    "array4 = array3[[0,1],2] # (0,2), (1,2)\n",
    "array5 = array3[[0,1],0:2] # ((0,0), (0,1)), ((1,0),(1,1))\n",
    "print('array3[[0,1],2]=>', array4.tolist())\n",
    "print('array3[[0,1],0:2]=>', array5.tolist())"
   ]
  },
  {
   "cell_type": "code",
   "execution_count": 34,
   "id": "05cb9c48",
   "metadata": {},
   "outputs": [
    {
     "name": "stdout",
     "output_type": "stream",
     "text": [
      "array1>5 불린 인덱싱 결과: [6 7 8 9]\n"
     ]
    }
   ],
   "source": [
    "#불린인덱싱\n",
    "array6 = array1[array1>5]\n",
    "print('array1>5 불린 인덱싱 결과:', array6)"
   ]
  },
  {
   "cell_type": "markdown",
   "id": "00ad2d35",
   "metadata": {},
   "source": [
    "### 행렬의 정렬"
   ]
  },
  {
   "cell_type": "code",
   "execution_count": 42,
   "id": "b035ebc6",
   "metadata": {},
   "outputs": [
    {
     "name": "stdout",
     "output_type": "stream",
     "text": [
      "원본 행렬: [3 1 9 5]\n"
     ]
    }
   ],
   "source": [
    "org_array = np.array([3,1,9,5])\n",
    "print('원본 행렬:', org_array)"
   ]
  },
  {
   "cell_type": "code",
   "execution_count": 46,
   "id": "7e4ae571",
   "metadata": {},
   "outputs": [
    {
     "name": "stdout",
     "output_type": "stream",
     "text": [
      "np.sort() 호출 후 반환된 행렬: [1 3 5 9]\n",
      "np.sort() 호출 후 원본 행렬: [3 1 9 5]\n",
      "org_array.sort() 호출 후 반환된 행렬: None\n",
      "org_array.sort() 호출 후 원본 행렬: [1 3 5 9]\n"
     ]
    }
   ],
   "source": [
    "#sort\n",
    "#np.sort()로 정렬: 원 행렬 유지\n",
    "sort_array1 = np.sort(org_array)\n",
    "print('np.sort() 호출 후 반환된 행렬:', sort_array1)\n",
    "print('np.sort() 호출 후 원본 행렬:', org_array)\n",
    "#ndarray.sort()로 정렬: 원 행렬 자체 정렬\n",
    "sort_array2 = org_array.sort()\n",
    "print('org_array.sort() 호출 후 반환된 행렬:', sort_array2)\n",
    "print('org_array.sort() 호출 후 원본 행렬:', org_array)"
   ]
  },
  {
   "cell_type": "code",
   "execution_count": 48,
   "id": "e6d2a04b",
   "metadata": {},
   "outputs": [
    {
     "name": "stdout",
     "output_type": "stream",
     "text": [
      "행렬 정렬 시 원본 행렬의 인덱스: [1 0 3 2]\n"
     ]
    }
   ],
   "source": [
    "#argsort\n",
    "org_array = np.array([3,1,9,5])\n",
    "sort_indicies = np.argsort(org_array)\n",
    "print('행렬 정렬 시 원본 행렬의 인덱스:', sort_indicies)"
   ]
  },
  {
   "cell_type": "markdown",
   "id": "990f109f",
   "metadata": {},
   "source": [
    "### 선형대수 연산"
   ]
  },
  {
   "cell_type": "code",
   "execution_count": 38,
   "id": "0d60f6f3",
   "metadata": {},
   "outputs": [
    {
     "name": "stdout",
     "output_type": "stream",
     "text": [
      "A:\n",
      " [[1 2 3]\n",
      " [4 5 6]]\n",
      "B:\n",
      " [[ 7  8]\n",
      " [ 9 10]\n",
      " [11 12]]\n"
     ]
    }
   ],
   "source": [
    "A = np.array([[1,2,3],[4,5,6]]) # (2,3)\n",
    "B = np.array([[7,8],[9,10],[11,12]]) # (3,2)\n",
    "print('A:\\n', A)\n",
    "print('B:\\n', B)"
   ]
  },
  {
   "cell_type": "code",
   "execution_count": 39,
   "id": "c8e85a3d",
   "metadata": {},
   "outputs": [
    {
     "name": "stdout",
     "output_type": "stream",
     "text": [
      "행렬 내적 결과:\n",
      " [[ 58  64]\n",
      " [139 154]]\n"
     ]
    }
   ],
   "source": [
    "#행렬내적\n",
    "dot_product = np.dot(A,B)\n",
    "print('행렬 내적 결과:\\n', dot_product)"
   ]
  },
  {
   "cell_type": "code",
   "execution_count": 41,
   "id": "f1c5e215",
   "metadata": {},
   "outputs": [
    {
     "name": "stdout",
     "output_type": "stream",
     "text": [
      "A의 전치 행렬:\n",
      " [[1 4]\n",
      " [2 5]\n",
      " [3 6]]\n",
      "B의 전치 행렬:\n",
      " [[ 7  9 11]\n",
      " [ 8 10 12]]\n"
     ]
    }
   ],
   "source": [
    "#전치행렬\n",
    "transpose_mat1 = np.transpose(A)\n",
    "transpose_mat2 = np.transpose(B)\n",
    "print('A의 전치 행렬:\\n', transpose_mat1)\n",
    "print('B의 전치 행렬:\\n', transpose_mat2)"
   ]
  }
 ],
 "metadata": {
  "kernelspec": {
   "display_name": "Python 3",
   "language": "python",
   "name": "python3"
  },
  "language_info": {
   "codemirror_mode": {
    "name": "ipython",
    "version": 3
   },
   "file_extension": ".py",
   "mimetype": "text/x-python",
   "name": "python",
   "nbconvert_exporter": "python",
   "pygments_lexer": "ipython3",
   "version": "3.8.8"
  }
 },
 "nbformat": 4,
 "nbformat_minor": 5
}
