{
  "nbformat": 4,
  "nbformat_minor": 0,
  "metadata": {
    "colab": {
      "name": "Untitled0.ipynb",
      "provenance": [],
      "authorship_tag": "ABX9TyNYTMeSFQBvnKaBSqCF3xXn",
      "include_colab_link": true
    },
    "kernelspec": {
      "name": "python3",
      "display_name": "Python 3"
    },
    "language_info": {
      "name": "python"
    }
  },
  "cells": [
    {
      "cell_type": "markdown",
      "metadata": {
        "id": "view-in-github",
        "colab_type": "text"
      },
      "source": [
        "<a href=\"https://colab.research.google.com/github/YooNayoung/ESAA/blob/main/0321ch4.%EB%AA%A8%EB%8D%B8%ED%9B%88%EB%A0%A8.ipynb\" target=\"_parent\"><img src=\"https://colab.research.google.com/assets/colab-badge.svg\" alt=\"Open In Colab\"/></a>"
      ]
    },
    {
      "cell_type": "markdown",
      "source": [
        "# 4.1 선형 회귀"
      ],
      "metadata": {
        "id": "h7SfAuuqLWNV"
      }
    },
    {
      "cell_type": "markdown",
      "source": [
        "### 4.1.1 정규방정식\n",
        "비용함수를 최소화 하는 theta값을 찾기 위한 해석적인 방법"
      ],
      "metadata": {
        "id": "9ZUL_5EELbeO"
      }
    },
    {
      "cell_type": "code",
      "source": [
        "# 무작위로 생성한 선형 데이터셋\n",
        "import numpy as np\n",
        "\n",
        "X = 2 * np.random.rand(100, 1)\n",
        "y = 4 + 3 * X + np.random.randn(100, 1)"
      ],
      "metadata": {
        "id": "P4aH8ypbMQoZ"
      },
      "execution_count": 2,
      "outputs": []
    },
    {
      "cell_type": "code",
      "source": [
        "# 정규방정식을 이용해 theta_hat 계산\n",
        "X_b = np.c_[np.ones((100, 1)), X]  # 모든 샘플에 x0 = 1을 추가합니다.\n",
        "theta_best = np.linalg.inv(X_b.T.dot(X_b)).dot(X_b.T).dot(y)"
      ],
      "metadata": {
        "id": "mvvCtH5YNqL5"
      },
      "execution_count": 4,
      "outputs": []
    },
    {
      "cell_type": "code",
      "source": [
        "theta_best"
      ],
      "metadata": {
        "colab": {
          "base_uri": "https://localhost:8080/"
        },
        "id": "mTdG-YWoN5yX",
        "outputId": "3929e61d-eaa1-42c4-8553-0328f26662ab"
      },
      "execution_count": 5,
      "outputs": [
        {
          "output_type": "execute_result",
          "data": {
            "text/plain": [
              "array([[3.68403054],\n",
              "       [3.26098423]])"
            ]
          },
          "metadata": {},
          "execution_count": 5
        }
      ]
    },
    {
      "cell_type": "code",
      "source": [
        "# theta_hat을 사용해 예측\n",
        "X_new = np.array([[0], [2]])\n",
        "X_new_b = np.c_[np.ones((2, 1)), X_new]  # 모든 샘플에 x0 = 1을 추가합니다.\n",
        "y_predict = X_new_b.dot(theta_best)\n",
        "y_predict"
      ],
      "metadata": {
        "colab": {
          "base_uri": "https://localhost:8080/"
        },
        "id": "oF-HoorWN_ol",
        "outputId": "ca2ca527-a3c3-4774-972b-45a5955ffe18"
      },
      "execution_count": 6,
      "outputs": [
        {
          "output_type": "execute_result",
          "data": {
            "text/plain": [
              "array([[ 3.68403054],\n",
              "       [10.20599899]])"
            ]
          },
          "metadata": {},
          "execution_count": 6
        }
      ]
    },
    {
      "cell_type": "code",
      "source": [
        "import matplotlib.pyplot as plt\n",
        "plt.plot(X_new, y_predict, \"r-\")\n",
        "plt.plot(X, y, \"b.\")\n",
        "plt.axis([0, 2, 0, 15])\n",
        "plt.show()"
      ],
      "metadata": {
        "colab": {
          "base_uri": "https://localhost:8080/",
          "height": 265
        },
        "id": "j7AcH0S2N_xM",
        "outputId": "5cd84587-4929-460e-e025-f951617eac9e"
      },
      "execution_count": 7,
      "outputs": [
        {
          "output_type": "display_data",
          "data": {
            "text/plain": [
              "<Figure size 432x288 with 1 Axes>"
            ],
            "image/png": "[encoded data removed]"
          },
          "metadata": {
            "needs_background": "light"
          }
        }
      ]
    },
    {
      "cell_type": "code",
      "source": [
        "# 사이킷런에서 선형회귀 수행\n",
        "from sklearn.linear_model import LinearRegression\n",
        "\n",
        "lin_reg = LinearRegression()\n",
        "lin_reg.fit(X, y)\n",
        "lin_reg.intercept_, lin_reg.coef_"
      ],
      "metadata": {
        "colab": {
          "base_uri": "https://localhost:8080/"
        },
        "id": "_DA-O3kROY_z",
        "outputId": "57d80629-9777-4562-e7b1-9193203af50c"
      },
      "execution_count": 17,
      "outputs": [
        {
          "output_type": "execute_result",
          "data": {
            "text/plain": [
              "(array([3.51097771]), array([[1.08486016]]))"
            ]
          },
          "metadata": {},
          "execution_count": 17
        }
      ]
    },
    {
      "cell_type": "code",
      "source": [
        "lin_reg.predict(X_new)"
      ],
      "metadata": {
        "colab": {
          "base_uri": "https://localhost:8080/"
        },
        "id": "4Q2uwMctPDOc",
        "outputId": "728c1f77-4b8d-4d93-85cc-c83385c25d71"
      },
      "execution_count": 10,
      "outputs": [
        {
          "output_type": "execute_result",
          "data": {
            "text/plain": [
              "array([[ 3.70086493],\n",
              "       [10.18138026]])"
            ]
          },
          "metadata": {},
          "execution_count": 10
        }
      ]
    },
    {
      "cell_type": "code",
      "source": [
        "theta_best_svd, residuals, rank, s = np.linalg.lstsq(X_b, y, rcond=1e-6)\n",
        "theta_best_svd"
      ],
      "metadata": {
        "colab": {
          "base_uri": "https://localhost:8080/"
        },
        "id": "0oJUa_5GPIq2",
        "outputId": "b7c9353b-d76a-4321-9834-142661278f67"
      },
      "execution_count": 11,
      "outputs": [
        {
          "output_type": "execute_result",
          "data": {
            "text/plain": [
              "array([[3.70086493],\n",
              "       [3.24025766]])"
            ]
          },
          "metadata": {},
          "execution_count": 11
        }
      ]
    },
    {
      "cell_type": "markdown",
      "source": [
        "- 이 함수는 theta_hat = X(+)y을 계산. \n",
        "- X(+)는 X의 유사역행렬(pseudoinverse). \n",
        "- np.linalg.pinv()을 사용해서 유사역행렬을 직접 계산할 수 있음."
      ],
      "metadata": {
        "id": "28LfEpJxPX3I"
      }
    },
    {
      "cell_type": "code",
      "source": [
        "np.linalg.pinv(X_b).dot(y)"
      ],
      "metadata": {
        "colab": {
          "base_uri": "https://localhost:8080/"
        },
        "id": "E6aYAzzsPqEA",
        "outputId": "a8c464ac-9602-4222-a2b5-ac05620025ce"
      },
      "execution_count": 12,
      "outputs": [
        {
          "output_type": "execute_result",
          "data": {
            "text/plain": [
              "array([[3.70086493],\n",
              "       [3.24025766]])"
            ]
          },
          "metadata": {},
          "execution_count": 12
        }
      ]
    },
    {
      "cell_type": "markdown",
      "source": [
        "### 4.1.2 경사복잡도\n",
        "- 정규방정식은 X^(T)X의 역행렬을 계산. \n",
        "- 역행렬을 계산하는 계산복잡도는 일반적으로 O(n^(2.4)) ~ O(n^(3)) 사이. \n",
        "- 사이킷런의 LinearRegression 클래스가 사용하는 SVD 방법은 약 O(n^(2))"
      ],
      "metadata": {
        "id": "zljBRp2BP3xs"
      }
    },
    {
      "cell_type": "markdown",
      "source": [
        "# 4.2 경사하강법\n",
        "- 최적화 알고리즘. 비용함수를 최소화하기 위해 반복해서 파라미터 조정.\n",
        "- 중요한 파라미터는 스텝의 크기인 학습율(learning rate)"
      ],
      "metadata": {
        "id": "VgGtW9NwQzI6"
      }
    },
    {
      "cell_type": "markdown",
      "source": [
        "### 4.2.1 배치 경사 하강법\n",
        "- 매 경사 하강법 스텝에서 전체 훈련 세트 X에 대해 계산\n",
        "- 매우 큰 훈련 세트에서는 아주 느림"
      ],
      "metadata": {
        "id": "AN5qUYoQRyt8"
      }
    },
    {
      "cell_type": "code",
      "source": [
        "eta = 0.1  # 학습률\n",
        "n_iterations = 1000\n",
        "m = 100\n",
        "\n",
        "theta = np.random.randn(2,1)  # 랜덤 초기화\n",
        "\n",
        "for iteration in range(n_iterations):\n",
        "    gradients = 2/m * X_b.T.dot(X_b.dot(theta) - y)\n",
        "    theta = theta - eta * gradients"
      ],
      "metadata": {
        "id": "chBOyDVYZs0p"
      },
      "execution_count": 13,
      "outputs": []
    },
    {
      "cell_type": "code",
      "source": [
        "theta"
      ],
      "metadata": {
        "colab": {
          "base_uri": "https://localhost:8080/"
        },
        "id": "tt15Xt45tAGx",
        "outputId": "ac3dd2ea-08a7-4a41-fde5-de109aed70c7"
      },
      "execution_count": 14,
      "outputs": [
        {
          "output_type": "execute_result",
          "data": {
            "text/plain": [
              "array([[3.70086493],\n",
              "       [3.24025766]])"
            ]
          },
          "metadata": {},
          "execution_count": 14
        }
      ]
    },
    {
      "cell_type": "markdown",
      "source": [
        "### 4.2.2 확률적 경사 하강법\n",
        "- 배치 경사 하강법은 매 스텝에서 전체 훈련 세트를 사용해 그래디언트를 계산하기 때문에 훈련 세트가 커지면 매우 느려지는 문제점 있음\n",
        "- 반면 확률적 경사 하강법은 매 스텝에서 한 개의 샘플을 무작위로 선택하고 그에 대한 그래디언트 계산 \n",
        "- 한 번에 하나의 샘플을 처리하기 때문에 훨씬 빠름(매우 큰 훈련세트도 가능)\n",
        "- but, 확률적이기 때문에 배치 경사 하강법보다 훨씬 불안정\n",
        "- so, 학습 스케줄 함수를 이용해 학습률을 점진적으로 감소시킴"
      ],
      "metadata": {
        "id": "AcQ8OkiPYmrN"
      }
    },
    {
      "cell_type": "code",
      "source": [
        "# 학습 스케줄을 사용한 확률적 경사 하강법 \n",
        "n_epochs = 50\n",
        "t0, t1 = 5, 50  # 학습 스케줄 하이퍼파라미터\n",
        "\n",
        "def learning_schedule(t):\n",
        "    return t0 / (t + t1)\n",
        "\n",
        "theta = np.random.randn(2,1)  # 랜덤 초기화\n",
        "\n",
        "for epoch in range(n_epochs):\n",
        "    for i in range(m):\n",
        "        random_index = np.random.randint(m)\n",
        "        xi = X_b[random_index:random_index+1]\n",
        "        yi = y[random_index:random_index+1]\n",
        "        gradients = 2 * xi.T.dot(xi.dot(theta) - yi)\n",
        "        eta = learning_schedule(epoch * m + i)\n",
        "        theta = theta - eta * gradients"
      ],
      "metadata": {
        "id": "ABthFoRVukEq"
      },
      "execution_count": 15,
      "outputs": []
    },
    {
      "cell_type": "code",
      "source": [
        "theta"
      ],
      "metadata": {
        "colab": {
          "base_uri": "https://localhost:8080/"
        },
        "id": "_ji0v0xPu1sU",
        "outputId": "ce517831-db55-494c-dd58-c91257d43b46"
      },
      "execution_count": 16,
      "outputs": [
        {
          "output_type": "execute_result",
          "data": {
            "text/plain": [
              "array([[3.71119673],\n",
              "       [3.24768382]])"
            ]
          },
          "metadata": {},
          "execution_count": 16
        }
      ]
    },
    {
      "cell_type": "markdown",
      "source": [
        "### 4.2.3 미니배치 경사 하강법\n",
        "- 미니배치라 부르는 임의의 작은 샘플 세트에 대해 그래디언트 계산\n",
        "- 주요 장점은 행렬 연산에 최적화된 하드웨어, 특히 GPU를 사용해서 얻는 성능 향상"
      ],
      "metadata": {
        "id": "tRhncoR4YpRw"
      }
    },
    {
      "cell_type": "markdown",
      "source": [
        "# 4.3 다항회귀\n",
        "- 선형 모델에 각 특성의 거듭제곱을 새로운 특성으로 추가하고, 확장된 특성을 포함한 데이터셋에 선형 모델을 훈련시키는 것\n"
      ],
      "metadata": {
        "id": "VXvX_f1CYvxU"
      }
    },
    {
      "cell_type": "code",
      "source": [
        "# 2차방정식으로 비선형 데이터 생성\n",
        "np.random.seed(42)\n",
        "m = 100\n",
        "X = 6 * np.random.rand(m, 1) - 3\n",
        "y = 0.5 * X**2 + X + 2 + np.random.randn(m, 1)"
      ],
      "metadata": {
        "id": "RnaamcRCNAEc"
      },
      "execution_count": 25,
      "outputs": []
    },
    {
      "cell_type": "code",
      "source": [
        "# 사이킷런의 PolynomialFeatures를 사용해 각 특성을 제곱하여 새로운 특성으로 추가\n",
        "from sklearn.preprocessing import PolynomialFeatures\n",
        "poly_features = PolynomialFeatures(degree=2, include_bias=False)\n",
        "X_poly = poly_features.fit_transform(X)\n",
        "X[0]"
      ],
      "metadata": {
        "colab": {
          "base_uri": "https://localhost:8080/"
        },
        "id": "2TSvfiAUNZiC",
        "outputId": "62d9437f-3d63-4cea-8ca6-37a18ae0f48f"
      },
      "execution_count": 26,
      "outputs": [
        {
          "output_type": "execute_result",
          "data": {
            "text/plain": [
              "array([-0.75275929])"
            ]
          },
          "metadata": {},
          "execution_count": 26
        }
      ]
    },
    {
      "cell_type": "code",
      "source": [
        "# X_poly : 원래 특성 X와 이 특성의 제곱을 포함\n",
        "X_poly[0]"
      ],
      "metadata": {
        "colab": {
          "base_uri": "https://localhost:8080/"
        },
        "id": "nNYx835uNa5z",
        "outputId": "1381d5b6-b81a-41d5-e2e6-79e0a4114c44"
      },
      "execution_count": 27,
      "outputs": [
        {
          "output_type": "execute_result",
          "data": {
            "text/plain": [
              "array([-0.75275929,  0.56664654])"
            ]
          },
          "metadata": {},
          "execution_count": 27
        }
      ]
    },
    {
      "cell_type": "code",
      "source": [
        "# 확장된 훈련 데이터에 LinearRegression 적용\n",
        "lin_reg = LinearRegression()\n",
        "lin_reg.fit(X_poly, y)\n",
        "lin_reg.intercept_, lin_reg.coef_"
      ],
      "metadata": {
        "colab": {
          "base_uri": "https://localhost:8080/"
        },
        "id": "Mgxvs1jYNxkF",
        "outputId": "db218c32-0b92-4d2e-d954-17ae3717e35d"
      },
      "execution_count": 28,
      "outputs": [
        {
          "output_type": "execute_result",
          "data": {
            "text/plain": [
              "(array([1.78134581]), array([[0.93366893, 0.56456263]]))"
            ]
          },
          "metadata": {},
          "execution_count": 28
        }
      ]
    },
    {
      "cell_type": "markdown",
      "source": [
        "# 4.4 학습곡선\n",
        "- 훈련 세트와 검증 세트의 모델 성능을 훈련 세트 크기의 함수로 나타냄\n",
        "- 단순히 훈련 세트에서 크기가 다른 서브 세트를 만들어 모델을 여러 번 훈련시키면 됨 "
      ],
      "metadata": {
        "id": "V1mLG-YvY0Ld"
      }
    },
    {
      "cell_type": "code",
      "source": [
        "# 학습 곡선을 그리는 함수 정의\n",
        "from sklearn.metrics import mean_squared_error\n",
        "from sklearn.model_selection import train_test_split\n",
        "\n",
        "def plot_learning_curves(model, X, y):\n",
        "    X_train, X_val, y_train, y_val = train_test_split(X, y, test_size=0.2, random_state=10)\n",
        "    train_errors, val_errors = [], []\n",
        "    for m in range(1, len(X_train)):\n",
        "        model.fit(X_train[:m], y_train[:m])\n",
        "        y_train_predict = model.predict(X_train[:m])\n",
        "        y_val_predict = model.predict(X_val)\n",
        "        train_errors.append(mean_squared_error(y_train[:m], y_train_predict))\n",
        "        val_errors.append(mean_squared_error(y_val, y_val_predict))\n",
        "\n",
        "    plt.plot(np.sqrt(train_errors), \"r-+\", linewidth=2, label=\"train\")\n",
        "    plt.plot(np.sqrt(val_errors), \"b-\", linewidth=3, label=\"val\")"
      ],
      "metadata": {
        "id": "daBRhU_JOnXU"
      },
      "execution_count": 29,
      "outputs": []
    },
    {
      "cell_type": "code",
      "source": [
        "# 과소적합된 모델 \n",
        "lin_reg = LinearRegression()\n",
        "plot_learning_curves(lin_reg, X, y)"
      ],
      "metadata": {
        "colab": {
          "base_uri": "https://localhost:8080/",
          "height": 269
        },
        "id": "MoDZHfWGO1Wd",
        "outputId": "16cda186-1049-4b2f-afcb-6a44351edeed"
      },
      "execution_count": 30,
      "outputs": [
        {
          "output_type": "display_data",
          "data": {
            "text/plain": [
              "<Figure size 432x288 with 1 Axes>"
            ],
            "image/png": "[encoded data removed]"
          },
          "metadata": {
            "needs_background": "light"
          }
        }
      ]
    },
    {
      "cell_type": "code",
      "source": [
        "# 같은 데이터에서 10차 다항 회귀 모델의 학습 곡선 \n",
        "from sklearn.pipeline import Pipeline\n",
        "\n",
        "polynomial_regression = Pipeline([\n",
        "        (\"poly_features\", PolynomialFeatures(degree=10, include_bias=False)),\n",
        "        (\"lin_reg\", LinearRegression()),\n",
        "    ])\n",
        "\n",
        "plot_learning_curves(polynomial_regression, X, y)"
      ],
      "metadata": {
        "colab": {
          "base_uri": "https://localhost:8080/",
          "height": 265
        },
        "id": "gBgvXD0tPI59",
        "outputId": "0401ea02-6437-4937-9587-b7eda9271911"
      },
      "execution_count": 31,
      "outputs": [
        {
          "output_type": "display_data",
          "data": {
            "text/plain": [
              "<Figure size 432x288 with 1 Axes>"
            ],
            "image/png": "[encoded data removed]"
          },
          "metadata": {
            "needs_background": "light"
          }
        }
      ]
    },
    {
      "cell_type": "markdown",
      "source": [
        "- 훈련 데이터의 오차가 선형 회귀 모델보다 훨씬 낮음\n",
        "- 두 곡선 사이에 공간 존재. 훈련 데이터에서의 모델 성능이 검증 데이터에서보다 훨씬 낫다는 뜻으로 과대적합 모델의 특징\n",
        "- but, 더 큰 훈련 세트를 사용하면 두 곡선이 점점 가까워짐"
      ],
      "metadata": {
        "id": "TXhSniYiPsO3"
      }
    },
    {
      "cell_type": "markdown",
      "source": [
        "# 4.5 규제가 있는 선형 모델\n",
        "- 과대적합을 감소시키는 좋은 방법은 모델을 규제하는 것\n",
        "- 선형 회귀 모델에서는 보통 모델의 가중치를 제한함으로써 규제 가함"
      ],
      "metadata": {
        "id": "82oywjweY4uc"
      }
    },
    {
      "cell_type": "markdown",
      "source": [
        "### 4.5.1 릿지 회귀\n",
        "- 규제항이 비용함수에 추가됨 (훈련하는 동안만)\n",
        "- alpha : 모델을 얼마나 많이 규제할지 조절 (0이면 선형회귀)"
      ],
      "metadata": {
        "id": "BhBnNaFfY_gv"
      }
    },
    {
      "cell_type": "code",
      "source": [
        "np.random.seed(42)\n",
        "m = 20\n",
        "X = 3 * np.random.rand(m, 1)\n",
        "y = 1 + 0.5 * X + np.random.randn(m, 1) / 1.5\n",
        "X_new = np.linspace(0, 3, 100).reshape(100, 1)"
      ],
      "metadata": {
        "id": "uPGSYvjRRwxb"
      },
      "execution_count": 33,
      "outputs": []
    },
    {
      "cell_type": "code",
      "source": [
        "# 정규방정식을 사용한 릿지 회귀\n",
        "from sklearn.linear_model import Ridge\n",
        "ridge_reg = Ridge(alpha=1, solver=\"cholesky\", random_state=42)\n",
        "ridge_reg.fit(X, y)\n",
        "ridge_reg.predict([[1.5]])"
      ],
      "metadata": {
        "colab": {
          "base_uri": "https://localhost:8080/"
        },
        "id": "QH7EhW4WRa1_",
        "outputId": "018409e5-5856-4169-d9b5-c30a36db0964"
      },
      "execution_count": 34,
      "outputs": [
        {
          "output_type": "execute_result",
          "data": {
            "text/plain": [
              "array([[1.55071465]])"
            ]
          },
          "metadata": {},
          "execution_count": 34
        }
      ]
    },
    {
      "cell_type": "code",
      "source": [
        "# 확률적 경사 하강법을 사용한 릿지 회귀\n",
        "from sklearn.linear_model import SGDRegressor\n",
        "sgd_reg = SGDRegressor(penalty=\"l2\", max_iter=1000, tol=1e-3, random_state=42)\n",
        "sgd_reg.fit(X, y.ravel())\n",
        "sgd_reg.predict([[1.5]])"
      ],
      "metadata": {
        "colab": {
          "base_uri": "https://localhost:8080/"
        },
        "id": "w0ZTgVhARf5D",
        "outputId": "7a972691-2586-4d95-a422-ff9d8d1e2cea"
      },
      "execution_count": 36,
      "outputs": [
        {
          "output_type": "execute_result",
          "data": {
            "text/plain": [
              "array([1.47012588])"
            ]
          },
          "metadata": {},
          "execution_count": 36
        }
      ]
    },
    {
      "cell_type": "markdown",
      "source": [
        "### 4.5.2 라쏘 회귀\n",
        "- 릿지 회귀처럼 비용 함수에 규제항을 더하지만 l2 노름의 제곱을 2로 나눈 것 대신 가중치 벡터의 l1 노름 사용\n",
        "- 특징은 덜 중요한 특성의 가중치를 제거한다는 점(희소 모델을 만듬)\n",
        "- 경사 하강법 적용을 위해 서브그레이디언트 벡터 사용 "
      ],
      "metadata": {
        "id": "SRer65-YZDTW"
      }
    },
    {
      "cell_type": "code",
      "source": [
        "from sklearn.linear_model import Lasso\n",
        "lasso_reg = Lasso(alpha=0.1)\n",
        "lasso_reg.fit(X, y)\n",
        "lasso_reg.predict([[1.5]])"
      ],
      "metadata": {
        "colab": {
          "base_uri": "https://localhost:8080/"
        },
        "id": "C56TjkIqWW5X",
        "outputId": "d4248546-fa1e-47eb-bf97-ac67fea33c36"
      },
      "execution_count": 37,
      "outputs": [
        {
          "output_type": "execute_result",
          "data": {
            "text/plain": [
              "array([1.53788174])"
            ]
          },
          "metadata": {},
          "execution_count": 37
        }
      ]
    },
    {
      "cell_type": "markdown",
      "source": [
        "### 4.5.3 엘라스틱넷\n",
        "- 릿지 회귀와 라쏘 회귀를 절충한 모델\n",
        "- 규제항은 릿지와 라쏘 규제항을 단순히 더한 것이고 혼합 비율 r로 조절 (0이면 릿지, 1이면 라쏘와 같아짐)"
      ],
      "metadata": {
        "id": "tnWdCdkYZDaH"
      }
    },
    {
      "cell_type": "code",
      "source": [
        "from sklearn.linear_model import ElasticNet\n",
        "elastic_net = ElasticNet(alpha=0.1, l1_ratio=0.5, random_state=42)\n",
        "elastic_net.fit(X, y)\n",
        "elastic_net.predict([[1.5]])"
      ],
      "metadata": {
        "colab": {
          "base_uri": "https://localhost:8080/"
        },
        "id": "aY-wCiNAW3YR",
        "outputId": "d0efa9fd-ff74-4e00-8851-a463d7467848"
      },
      "execution_count": 38,
      "outputs": [
        {
          "output_type": "execute_result",
          "data": {
            "text/plain": [
              "array([1.54333232])"
            ]
          },
          "metadata": {},
          "execution_count": 38
        }
      ]
    },
    {
      "cell_type": "markdown",
      "source": [
        "### 4.5.4 조기 종료 (규제의 색다른 방법)\n",
        "- 검증 에러가 최솟값에 도달하면 바로 훈련 중지 "
      ],
      "metadata": {
        "id": "O6Zg9z2GZQB3"
      }
    },
    {
      "cell_type": "code",
      "source": [
        "np.random.seed(42)\n",
        "m = 100\n",
        "X = 6 * np.random.rand(m, 1) - 3\n",
        "y = 2 + X + 0.5 * X**2 + np.random.randn(m, 1)\n",
        "\n",
        "X_train, X_val, y_train, y_val = train_test_split(X[:50], y[:50].ravel(), test_size=0.5, random_state=10)"
      ],
      "metadata": {
        "id": "dUx89A6mXqZP"
      },
      "execution_count": 41,
      "outputs": []
    },
    {
      "cell_type": "code",
      "source": [
        "from copy import deepcopy\n",
        "from sklearn.preprocessing import StandardScaler\n",
        "\n",
        "poly_scaler = Pipeline([\n",
        "        (\"poly_features\", PolynomialFeatures(degree=90, include_bias=False)),\n",
        "        (\"std_scaler\", StandardScaler())\n",
        "    ])\n",
        "\n",
        "X_train_poly_scaled = poly_scaler.fit_transform(X_train)\n",
        "X_val_poly_scaled = poly_scaler.transform(X_val)\n",
        "\n",
        "sgd_reg = SGDRegressor(max_iter=1, tol=-np.infty, warm_start=True,\n",
        "                       penalty=None, learning_rate=\"constant\", eta0=0.0005, random_state=42)\n",
        "\n",
        "minimum_val_error = float(\"inf\")\n",
        "best_epoch = None\n",
        "best_model = None\n",
        "for epoch in range(1000):\n",
        "    sgd_reg.fit(X_train_poly_scaled, y_train)  # 중지된 곳에서 다시 시작합니다\n",
        "    y_val_predict = sgd_reg.predict(X_val_poly_scaled)\n",
        "    val_error = mean_squared_error(y_val, y_val_predict)\n",
        "    if val_error < minimum_val_error:\n",
        "        minimum_val_error = val_error\n",
        "        best_epoch = epoch\n",
        "        best_model = deepcopy(sgd_reg)"
      ],
      "metadata": {
        "id": "ScS5lEB1XKe-"
      },
      "execution_count": 42,
      "outputs": []
    },
    {
      "cell_type": "markdown",
      "source": [
        "# 4.6 로지스틱 회귀"
      ],
      "metadata": {
        "id": "LS0eN5nXZT6S"
      }
    },
    {
      "cell_type": "markdown",
      "source": [
        "### 4.6.1 확률 추정\n",
        "- 선형 회귀 모델과 같이 입력 특성의 가중치 합을 계산\n",
        "- 결괏값의 로지스틱을 출력\n",
        "- 로지스틱 : 0 ~ 1 사이의 값을 출력하는 시그모이드 함수"
      ],
      "metadata": {
        "id": "ERWb9OWMZXlM"
      }
    },
    {
      "cell_type": "markdown",
      "source": [
        "### 4.6.2 훈련과 비용 함수\n",
        "- 훈련의 목적: y=1에 대해서는 높은 확률을 추정하고 y=0에 대해서는 낮은 확률을 추정하는 모델의 파라미터 벡터 theta를 찾는 것\n",
        "- 비용 함수: 모든 훈련 샘플의 비용을 평균한 것 -> 로그 손실"
      ],
      "metadata": {
        "id": "FDM1aXYTZbpP"
      }
    },
    {
      "cell_type": "markdown",
      "source": [
        "### 4.6.3 결정 경계"
      ],
      "metadata": {
        "id": "k67Epn1_ZgAI"
      }
    },
    {
      "cell_type": "code",
      "source": [
        "# iris 데이터 로드 \n",
        "from sklearn import datasets\n",
        "iris = datasets.load_iris()\n",
        "list(iris.keys())"
      ],
      "metadata": {
        "colab": {
          "base_uri": "https://localhost:8080/"
        },
        "id": "L4OU7EpZYyJE",
        "outputId": "eeb5a2a1-a90f-4be3-bb94-0d8f10dae23b"
      },
      "execution_count": 43,
      "outputs": [
        {
          "output_type": "execute_result",
          "data": {
            "text/plain": [
              "['data',\n",
              " 'target',\n",
              " 'frame',\n",
              " 'target_names',\n",
              " 'DESCR',\n",
              " 'feature_names',\n",
              " 'filename',\n",
              " 'data_module']"
            ]
          },
          "metadata": {},
          "execution_count": 43
        }
      ]
    },
    {
      "cell_type": "code",
      "source": [
        "X = iris[\"data\"][:, 3:]  # 꽃잎 너비\n",
        "y = (iris[\"target\"] == 2).astype(int)  # Iris virginica이면 1 아니면 0"
      ],
      "metadata": {
        "id": "vykxe-ihY2uh"
      },
      "execution_count": 44,
      "outputs": []
    },
    {
      "cell_type": "code",
      "source": [
        "# 로지스틱 회귀 모델 훈련\n",
        "from sklearn.linear_model import LogisticRegression\n",
        "log_reg = LogisticRegression(solver=\"lbfgs\", random_state=42)\n",
        "log_reg.fit(X, y)"
      ],
      "metadata": {
        "colab": {
          "base_uri": "https://localhost:8080/"
        },
        "id": "E2_zyhRYY7ie",
        "outputId": "6e57826a-b8a9-4903-f0c4-e2b1ff930ef0"
      },
      "execution_count": 45,
      "outputs": [
        {
          "output_type": "execute_result",
          "data": {
            "text/plain": [
              "LogisticRegression(random_state=42)"
            ]
          },
          "metadata": {},
          "execution_count": 45
        }
      ]
    },
    {
      "cell_type": "code",
      "source": [
        "# 꽃잎의 너비가 0~3cm인 꽃에 대해 모델의 추정 확률 계산 \n",
        "X_new = np.linspace(0, 3, 1000).reshape(-1, 1)\n",
        "y_proba = log_reg.predict_proba(X_new)\n",
        "\n",
        "plt.plot(X_new, y_proba[:, 1], \"g-\", linewidth=2, label=\"Iris virginica\")\n",
        "plt.plot(X_new, y_proba[:, 0], \"b--\", linewidth=2, label=\"Not Iris virginica\")"
      ],
      "metadata": {
        "colab": {
          "base_uri": "https://localhost:8080/",
          "height": 284
        },
        "id": "C2p6cwfcZFQ1",
        "outputId": "db432c7c-d85c-4729-d1bc-4475f16b7e23"
      },
      "execution_count": 46,
      "outputs": [
        {
          "output_type": "execute_result",
          "data": {
            "text/plain": [
              "[<matplotlib.lines.Line2D at 0x7fd3e1fea2d0>]"
            ]
          },
          "metadata": {},
          "execution_count": 46
        },
        {
          "output_type": "display_data",
          "data": {
            "text/plain": [
              "<Figure size 432x288 with 1 Axes>"
            ],
            "image/png": "[encoded data removed]"
          },
          "metadata": {
            "needs_background": "light"
          }
        }
      ]
    },
    {
      "cell_type": "code",
      "source": [
        "log_reg.predict([[1.7], [1.5]])"
      ],
      "metadata": {
        "colab": {
          "base_uri": "https://localhost:8080/"
        },
        "id": "Oih26lMAZaQh",
        "outputId": "f006163d-fd1c-4e49-9a35-02ef52df7462"
      },
      "execution_count": 47,
      "outputs": [
        {
          "output_type": "execute_result",
          "data": {
            "text/plain": [
              "array([1, 0])"
            ]
          },
          "metadata": {},
          "execution_count": 47
        }
      ]
    },
    {
      "cell_type": "markdown",
      "source": [
        "### 4.6.4 소프트맥스 회귀"
      ],
      "metadata": {
        "id": "sx1vmA9eZk3f"
      }
    },
    {
      "cell_type": "code",
      "source": [
        "X = iris[\"data\"][:, (2, 3)]  # 꽃잎 길이, 꽃잎 너비\n",
        "y = iris[\"target\"]\n",
        "\n",
        "softmax_reg = LogisticRegression(multi_class=\"multinomial\",solver=\"lbfgs\", C=10, random_state=42)\n",
        "softmax_reg.fit(X, y)"
      ],
      "metadata": {
        "colab": {
          "base_uri": "https://localhost:8080/"
        },
        "id": "MV8BvOFhP671",
        "outputId": "aa368844-a662-4cb1-e3db-ac96e4cba0fb"
      },
      "execution_count": 48,
      "outputs": [
        {
          "output_type": "execute_result",
          "data": {
            "text/plain": [
              "LogisticRegression(C=10, multi_class='multinomial', random_state=42)"
            ]
          },
          "metadata": {},
          "execution_count": 48
        }
      ]
    },
    {
      "cell_type": "code",
      "source": [
        "softmax_reg.predict([[5, 2]])"
      ],
      "metadata": {
        "colab": {
          "base_uri": "https://localhost:8080/"
        },
        "id": "tpyg7VOpZ3Sh",
        "outputId": "e877f5b0-7fb3-4b37-d324-8ed6ca29a6f9"
      },
      "execution_count": 49,
      "outputs": [
        {
          "output_type": "execute_result",
          "data": {
            "text/plain": [
              "array([2])"
            ]
          },
          "metadata": {},
          "execution_count": 49
        }
      ]
    },
    {
      "cell_type": "code",
      "source": [
        "softmax_reg.predict_proba([[5, 2]])"
      ],
      "metadata": {
        "colab": {
          "base_uri": "https://localhost:8080/"
        },
        "id": "ZfBLzzBnZ3zG",
        "outputId": "0644b916-3657-4bb4-f3e3-4ec1485648a1"
      },
      "execution_count": 50,
      "outputs": [
        {
          "output_type": "execute_result",
          "data": {
            "text/plain": [
              "array([[6.38014896e-07, 5.74929995e-02, 9.42506362e-01]])"
            ]
          },
          "metadata": {},
          "execution_count": 50
        }
      ]
    }
  ]
}