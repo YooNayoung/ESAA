{
 "cells": [
  {
   "cell_type": "markdown",
   "id": "5049b5f1",
   "metadata": {},
   "source": [
    "### datetime 오브젝트"
   ]
  },
  {
   "cell_type": "code",
   "execution_count": 1,
   "id": "d0fe9a16",
   "metadata": {},
   "outputs": [],
   "source": [
    "# datetime 라이브러리\n",
    "from datetime import datetime"
   ]
  },
  {
   "cell_type": "code",
   "execution_count": 4,
   "id": "7782b46c",
   "metadata": {},
   "outputs": [
    {
     "name": "stdout",
     "output_type": "stream",
     "text": [
      "2021-09-30 01:05:18.329499\n",
      "2021-09-30 01:05:18.329499\n"
     ]
    }
   ],
   "source": [
    "# 현재 시간\n",
    "print(datetime.now())\n",
    "print(datetime.today())"
   ]
  },
  {
   "cell_type": "code",
   "execution_count": 5,
   "id": "3bb555ce",
   "metadata": {},
   "outputs": [
    {
     "name": "stdout",
     "output_type": "stream",
     "text": [
      "2017-12-21 00:00:00\n"
     ]
    }
   ],
   "source": [
    "# 시간 입력\n",
    "print(datetime(2017, 12, 21))"
   ]
  },
  {
   "cell_type": "code",
   "execution_count": 6,
   "id": "fd002ee3",
   "metadata": {},
   "outputs": [
    {
     "name": "stdout",
     "output_type": "stream",
     "text": [
      "1379 days, 1:06:56.044395\n"
     ]
    }
   ],
   "source": [
    "# 시간 계산 \n",
    "t1 = datetime.now( ) \n",
    "t2 = datetime(2017, 12, 21) \n",
    "print(t1-t2)"
   ]
  },
  {
   "cell_type": "code",
   "execution_count": 29,
   "id": "324a1b31",
   "metadata": {},
   "outputs": [
    {
     "name": "stdout",
     "output_type": "stream",
     "text": [
      "  order_day    date_dt\n",
      "0  01/01/15 2015-01-01\n",
      "1  02/01/15 2015-01-02\n",
      "2  03/01/15 2015-01-03\n"
     ]
    }
   ],
   "source": [
    "# datetime 오브젝트로 변환하기 - to_datetime\n",
    "test_df = pd.DataFrame({'order_day':['01/01/15', '02/01/15', '03/01/15']})\n",
    "test_df['date_dt'] = pd.to_datetime(test_df['order_day'], format='%d/%m/%y') \n",
    "print(test_df)"
   ]
  },
  {
   "cell_type": "code",
   "execution_count": 24,
   "id": "23cb3b07",
   "metadata": {},
   "outputs": [
    {
     "name": "stdout",
     "output_type": "stream",
     "text": [
      "0   2018-05-16\n",
      "1   2018-05-17\n",
      "2   2018-05-18\n",
      "dtype: datetime64[ns]\n"
     ]
    }
   ],
   "source": [
    "# 날짜 정보 추출하기 \n",
    "date_series = pd.Series(['2018-05-16', '2018-05-17', '2018-05-18']) \n",
    "d1 = pd.to_datetime(date_series) \n",
    "print(d1)"
   ]
  },
  {
   "cell_type": "code",
   "execution_count": 25,
   "id": "49bf915b",
   "metadata": {},
   "outputs": [
    {
     "name": "stdout",
     "output_type": "stream",
     "text": [
      "2018\n",
      "5\n",
      "16\n"
     ]
    }
   ],
   "source": [
    "print(d1[0].year)\n",
    "print(d1[0].month)\n",
    "print(d1[0].day)"
   ]
  },
  {
   "cell_type": "code",
   "execution_count": 37,
   "id": "f97679fb",
   "metadata": {},
   "outputs": [
    {
     "name": "stdout",
     "output_type": "stream",
     "text": [
      "  order_day    date_dt  year  month  day\n",
      "0  01/01/15 2015-01-01  2015      1    1\n",
      "1  02/01/15 2015-01-02  2015      1    2\n",
      "2  03/01/15 2015-01-03  2015      1    3\n"
     ]
    }
   ],
   "source": [
    "# dt 접근자\n",
    "test_df['year'], test_df['month'], test_df['day'] = (\n",
    "    test_df['date_dt'].dt.year, \n",
    "    test_df['date_dt'].dt.month, \n",
    "    test_df['date_dt'].dt.day)\n",
    "print(test_df)"
   ]
  },
  {
   "cell_type": "code",
   "execution_count": 38,
   "id": "755d93c0",
   "metadata": {},
   "outputs": [
    {
     "name": "stdout",
     "output_type": "stream",
     "text": [
      "<class 'pandas.core.frame.DataFrame'>\n",
      "RangeIndex: 3 entries, 0 to 2\n",
      "Data columns (total 5 columns):\n",
      " #   Column     Non-Null Count  Dtype         \n",
      "---  ------     --------------  -----         \n",
      " 0   order_day  3 non-null      object        \n",
      " 1   date_dt    3 non-null      datetime64[ns]\n",
      " 2   year       3 non-null      int64         \n",
      " 3   month      3 non-null      int64         \n",
      " 4   day        3 non-null      int64         \n",
      "dtypes: datetime64[ns](1), int64(3), object(1)\n",
      "memory usage: 248.0+ bytes\n"
     ]
    }
   ],
   "source": [
    "test_df.info()"
   ]
  },
  {
   "cell_type": "markdown",
   "id": "ea8b4725",
   "metadata": {},
   "source": [
    "### 사례별 시계열 데이터 계산하기 "
   ]
  },
  {
   "cell_type": "code",
   "execution_count": 5,
   "id": "1fbe1584",
   "metadata": {},
   "outputs": [
    {
     "name": "stdout",
     "output_type": "stream",
     "text": [
      "Requirement already satisfied: pandas-datareader in c:\\users\\fullm\\anaconda3\\lib\\site-packages (0.10.0)\n",
      "Requirement already satisfied: pandas>=0.23 in c:\\users\\fullm\\anaconda3\\lib\\site-packages (from pandas-datareader) (1.2.4)\n",
      "Requirement already satisfied: lxml in c:\\users\\fullm\\anaconda3\\lib\\site-packages (from pandas-datareader) (4.6.3)\n",
      "Requirement already satisfied: requests>=2.19.0 in c:\\users\\fullm\\anaconda3\\lib\\site-packages (from pandas-datareader) (2.25.1)\n",
      "Requirement already satisfied: numpy>=1.16.5 in c:\\users\\fullm\\anaconda3\\lib\\site-packages (from pandas>=0.23->pandas-datareader) (1.20.1)\n",
      "Requirement already satisfied: pytz>=2017.3 in c:\\users\\fullm\\anaconda3\\lib\\site-packages (from pandas>=0.23->pandas-datareader) (2021.1)\n",
      "Requirement already satisfied: python-dateutil>=2.7.3 in c:\\users\\fullm\\anaconda3\\lib\\site-packages (from pandas>=0.23->pandas-datareader) (2.8.1)\n",
      "Requirement already satisfied: six>=1.5 in c:\\users\\fullm\\anaconda3\\lib\\site-packages (from python-dateutil>=2.7.3->pandas>=0.23->pandas-datareader) (1.15.0)\n",
      "Requirement already satisfied: idna<3,>=2.5 in c:\\users\\fullm\\anaconda3\\lib\\site-packages (from requests>=2.19.0->pandas-datareader) (2.10)\n",
      "Requirement already satisfied: chardet<5,>=3.0.2 in c:\\users\\fullm\\anaconda3\\lib\\site-packages (from requests>=2.19.0->pandas-datareader) (4.0.0)\n",
      "Requirement already satisfied: urllib3<1.27,>=1.21.1 in c:\\users\\fullm\\anaconda3\\lib\\site-packages (from requests>=2.19.0->pandas-datareader) (1.26.4)\n",
      "Requirement already satisfied: certifi>=2017.4.17 in c:\\users\\fullm\\anaconda3\\lib\\site-packages (from requests>=2.19.0->pandas-datareader) (2020.12.5)\n",
      "Note: you may need to restart the kernel to use updated packages.\n"
     ]
    }
   ],
   "source": [
    "# 테슬라 주식 데이터 \n",
    "pip install pandas-datareader"
   ]
  },
  {
   "cell_type": "code",
   "execution_count": 8,
   "id": "e3a77957",
   "metadata": {},
   "outputs": [],
   "source": [
    "pd.core.common.is_list_like = pd.api.types.is_list_like\n",
    "import pandas_datareader as pdr"
   ]
  },
  {
   "cell_type": "code",
   "execution_count": 44,
   "id": "c5980cb1",
   "metadata": {},
   "outputs": [
    {
     "data": {
      "text/html": [
       "<div>\n",
       "<style scoped>\n",
       "    .dataframe tbody tr th:only-of-type {\n",
       "        vertical-align: middle;\n",
       "    }\n",
       "\n",
       "    .dataframe tbody tr th {\n",
       "        vertical-align: top;\n",
       "    }\n",
       "\n",
       "    .dataframe thead th {\n",
       "        text-align: right;\n",
       "    }\n",
       "</style>\n",
       "<table border=\"1\" class=\"dataframe\">\n",
       "  <thead>\n",
       "    <tr style=\"text-align: right;\">\n",
       "      <th></th>\n",
       "      <th>Date</th>\n",
       "      <th>Open</th>\n",
       "      <th>High</th>\n",
       "      <th>Low</th>\n",
       "      <th>Close</th>\n",
       "      <th>Volume</th>\n",
       "      <th>ExDividend</th>\n",
       "      <th>SplitRatio</th>\n",
       "      <th>AdjOpen</th>\n",
       "      <th>AdjHigh</th>\n",
       "      <th>AdjLow</th>\n",
       "      <th>AdjClose</th>\n",
       "      <th>AdjVolume</th>\n",
       "    </tr>\n",
       "  </thead>\n",
       "  <tbody>\n",
       "    <tr>\n",
       "      <th>0</th>\n",
       "      <td>2018-03-27</td>\n",
       "      <td>304.00</td>\n",
       "      <td>304.27</td>\n",
       "      <td>277.18</td>\n",
       "      <td>279.18</td>\n",
       "      <td>13696168.0</td>\n",
       "      <td>0.0</td>\n",
       "      <td>1.0</td>\n",
       "      <td>304.00</td>\n",
       "      <td>304.27</td>\n",
       "      <td>277.18</td>\n",
       "      <td>279.18</td>\n",
       "      <td>13696168.0</td>\n",
       "    </tr>\n",
       "    <tr>\n",
       "      <th>1</th>\n",
       "      <td>2018-03-26</td>\n",
       "      <td>307.34</td>\n",
       "      <td>307.59</td>\n",
       "      <td>291.36</td>\n",
       "      <td>304.18</td>\n",
       "      <td>8324639.0</td>\n",
       "      <td>0.0</td>\n",
       "      <td>1.0</td>\n",
       "      <td>307.34</td>\n",
       "      <td>307.59</td>\n",
       "      <td>291.36</td>\n",
       "      <td>304.18</td>\n",
       "      <td>8324639.0</td>\n",
       "    </tr>\n",
       "    <tr>\n",
       "      <th>2</th>\n",
       "      <td>2018-03-23</td>\n",
       "      <td>311.25</td>\n",
       "      <td>311.61</td>\n",
       "      <td>300.45</td>\n",
       "      <td>301.54</td>\n",
       "      <td>6600538.0</td>\n",
       "      <td>0.0</td>\n",
       "      <td>1.0</td>\n",
       "      <td>311.25</td>\n",
       "      <td>311.61</td>\n",
       "      <td>300.45</td>\n",
       "      <td>301.54</td>\n",
       "      <td>6600538.0</td>\n",
       "    </tr>\n",
       "    <tr>\n",
       "      <th>3</th>\n",
       "      <td>2018-03-22</td>\n",
       "      <td>313.89</td>\n",
       "      <td>318.82</td>\n",
       "      <td>308.18</td>\n",
       "      <td>309.10</td>\n",
       "      <td>4914307.0</td>\n",
       "      <td>0.0</td>\n",
       "      <td>1.0</td>\n",
       "      <td>313.89</td>\n",
       "      <td>318.82</td>\n",
       "      <td>308.18</td>\n",
       "      <td>309.10</td>\n",
       "      <td>4914307.0</td>\n",
       "    </tr>\n",
       "    <tr>\n",
       "      <th>4</th>\n",
       "      <td>2018-03-21</td>\n",
       "      <td>310.25</td>\n",
       "      <td>322.44</td>\n",
       "      <td>310.19</td>\n",
       "      <td>316.53</td>\n",
       "      <td>5927881.0</td>\n",
       "      <td>0.0</td>\n",
       "      <td>1.0</td>\n",
       "      <td>310.25</td>\n",
       "      <td>322.44</td>\n",
       "      <td>310.19</td>\n",
       "      <td>316.53</td>\n",
       "      <td>5927881.0</td>\n",
       "    </tr>\n",
       "  </tbody>\n",
       "</table>\n",
       "</div>"
      ],
      "text/plain": [
       "        Date    Open    High     Low   Close      Volume  ExDividend  \\\n",
       "0 2018-03-27  304.00  304.27  277.18  279.18  13696168.0         0.0   \n",
       "1 2018-03-26  307.34  307.59  291.36  304.18   8324639.0         0.0   \n",
       "2 2018-03-23  311.25  311.61  300.45  301.54   6600538.0         0.0   \n",
       "3 2018-03-22  313.89  318.82  308.18  309.10   4914307.0         0.0   \n",
       "4 2018-03-21  310.25  322.44  310.19  316.53   5927881.0         0.0   \n",
       "\n",
       "   SplitRatio  AdjOpen  AdjHigh  AdjLow  AdjClose   AdjVolume  \n",
       "0         1.0   304.00   304.27  277.18    279.18  13696168.0  \n",
       "1         1.0   307.34   307.59  291.36    304.18   8324639.0  \n",
       "2         1.0   311.25   311.61  300.45    301.54   6600538.0  \n",
       "3         1.0   313.89   318.82  308.18    309.10   4914307.0  \n",
       "4         1.0   310.25   322.44  310.19    316.53   5927881.0  "
      ]
     },
     "execution_count": 44,
     "metadata": {},
     "output_type": "execute_result"
    }
   ],
   "source": [
    "tesla = pdr.get_data_quandl('TSLA', api_key = 'UVixeoVgnzNNyUtKmsB_')\n",
    "tesla = tesla.reset_index()\n",
    "tesla.head()"
   ]
  },
  {
   "cell_type": "code",
   "execution_count": 38,
   "id": "516fe5e5",
   "metadata": {},
   "outputs": [
    {
     "name": "stdout",
     "output_type": "stream",
     "text": [
      "<class 'pandas.core.frame.DataFrame'>\n",
      "RangeIndex: 372 entries, 0 to 371\n",
      "Data columns (total 13 columns):\n",
      " #   Column      Non-Null Count  Dtype         \n",
      "---  ------      --------------  -----         \n",
      " 0   Date        372 non-null    datetime64[ns]\n",
      " 1   Open        372 non-null    float64       \n",
      " 2   High        372 non-null    float64       \n",
      " 3   Low         372 non-null    float64       \n",
      " 4   Close       372 non-null    float64       \n",
      " 5   Volume      372 non-null    float64       \n",
      " 6   ExDividend  372 non-null    float64       \n",
      " 7   SplitRatio  372 non-null    float64       \n",
      " 8   AdjOpen     372 non-null    float64       \n",
      " 9   AdjHigh     372 non-null    float64       \n",
      " 10  AdjLow      372 non-null    float64       \n",
      " 11  AdjClose    372 non-null    float64       \n",
      " 12  AdjVolume   372 non-null    float64       \n",
      "dtypes: datetime64[ns](1), float64(12)\n",
      "memory usage: 37.9 KB\n"
     ]
    }
   ],
   "source": [
    "tesla.info()"
   ]
  },
  {
   "cell_type": "code",
   "execution_count": 49,
   "id": "47198a3f",
   "metadata": {},
   "outputs": [
    {
     "name": "stdout",
     "output_type": "stream",
     "text": [
      "DatetimeIndex(['2018-03-27', '2018-03-26', '2018-03-23', '2018-03-22',\n",
      "               '2018-03-21', '2018-03-20', '2018-03-19', '2018-03-16',\n",
      "               '2018-03-15', '2018-03-14',\n",
      "               ...\n",
      "               '2016-10-14', '2016-10-13', '2016-10-12', '2016-10-11',\n",
      "               '2016-10-10', '2016-10-07', '2016-10-06', '2016-10-05',\n",
      "               '2016-10-04', '2016-10-03'],\n",
      "              dtype='datetime64[ns]', name='Date', length=372, freq=None)\n"
     ]
    }
   ],
   "source": [
    "# DatetimeIndex\n",
    "tesla.index = tesla['Date']\n",
    "print(tesla.index)"
   ]
  },
  {
   "cell_type": "code",
   "execution_count": 52,
   "id": "f0132773",
   "metadata": {},
   "outputs": [
    {
     "name": "stdout",
     "output_type": "stream",
     "text": [
      "                 Date    Open    High       Low   Close\n",
      "Date                                                   \n",
      "2016-12-30 2016-12-30  216.30  217.50  211.6800  213.69\n",
      "2016-12-29 2016-12-29  218.56  219.20  214.1225  214.68\n",
      "2016-12-28 2016-12-28  221.53  223.80  217.2000  219.74\n",
      "2016-12-27 2016-12-27  214.88  222.25  214.4200  219.53\n",
      "2016-12-23 2016-12-23  208.00  213.45  207.7100  213.34\n"
     ]
    }
   ],
   "source": [
    "print(tesla.loc['2016'].iloc[:5, :5])"
   ]
  },
  {
   "cell_type": "code",
   "execution_count": 57,
   "id": "7b1e0011",
   "metadata": {},
   "outputs": [
    {
     "name": "stdout",
     "output_type": "stream",
     "text": [
      "               Date    Open    High     Low   Close\n",
      "ref_date                                           \n",
      "540 days 2018-03-27  304.00  304.27  277.18  279.18\n",
      "539 days 2018-03-26  307.34  307.59  291.36  304.18\n",
      "536 days 2018-03-23  311.25  311.61  300.45  301.54\n",
      "535 days 2018-03-22  313.89  318.82  308.18  309.10\n",
      "534 days 2018-03-21  310.25  322.44  310.19  316.53\n"
     ]
    }
   ],
   "source": [
    "# TimedeltaIndex\n",
    "tesla['ref_date'] = tesla['Date'] - tesla['Date'].min( ) \n",
    "tesla.index = tesla['ref_date']\n",
    "print(tesla.iloc[:5, :5])"
   ]
  },
  {
   "cell_type": "code",
   "execution_count": 56,
   "id": "a39e18bc",
   "metadata": {
    "scrolled": true
   },
   "outputs": [
    {
     "name": "stdout",
     "output_type": "stream",
     "text": [
      "               Date    Open      High     Low   Close\n",
      "ref_date                                             \n",
      "4 days   2016-10-07  201.00  201.3200  195.80  196.61\n",
      "3 days   2016-10-06  202.46  204.2099  200.21  201.00\n",
      "2 days   2016-10-05  212.24  213.1500  208.12  208.46\n",
      "1 days   2016-10-04  213.10  213.3200  208.82  211.41\n",
      "0 days   2016-10-03  212.30  215.6688  208.25  213.70\n"
     ]
    }
   ],
   "source": [
    "print(tesla['5 days':].iloc[:5, :5])"
   ]
  },
  {
   "cell_type": "code",
   "execution_count": 6,
   "id": "d67bddcf",
   "metadata": {},
   "outputs": [
    {
     "name": "stdout",
     "output_type": "stream",
     "text": [
      "        Date  Day  Cases_Guinea  Cases_Liberia  Cases_SierraLeone\n",
      "0 2015-01-05  289        2776.0            NaN            10030.0\n",
      "1 2015-01-04  288        2775.0            NaN             9780.0\n",
      "2 2015-01-03  287        2769.0         8166.0             9722.0\n",
      "3 2015-01-02  286           NaN         8157.0                NaN\n",
      "4 2014-12-31  284        2730.0         8115.0             9633.0\n",
      "          Date  Day  Cases_Guinea  Cases_Liberia  Cases_SierraLeone\n",
      "117 2014-03-27    5         103.0            8.0                6.0\n",
      "118 2014-03-26    4          86.0            NaN                NaN\n",
      "119 2014-03-25    3          86.0            NaN                NaN\n",
      "120 2014-03-24    2          86.0            NaN                NaN\n",
      "121 2014-03-22    0          49.0            NaN                NaN\n"
     ]
    }
   ],
   "source": [
    "# 시간 범위와 인덱스 \n",
    "import pandas as pd\n",
    "import os\n",
    "ebola = pd.read_csv('https://raw.githubusercontent.com/easysIT/doit_pandas/master/data/country_timeseries.csv',parse_dates=[0])\n",
    "print(ebola.iloc[:5,:5]) # 2015-01-01 누락 \n",
    "print(ebola.iloc[-5:,:5]) # 2014-03-23 누락 "
   ]
  },
  {
   "cell_type": "code",
   "execution_count": 7,
   "id": "ae6644d1",
   "metadata": {},
   "outputs": [
    {
     "data": {
      "text/plain": [
       "DatetimeIndex(['2014-12-31', '2015-01-01', '2015-01-02', '2015-01-03',\n",
       "               '2015-01-04', '2015-01-05'],\n",
       "              dtype='datetime64[ns]', freq='D')"
      ]
     },
     "execution_count": 7,
     "metadata": {},
     "output_type": "execute_result"
    }
   ],
   "source": [
    "head_range = pd.date_range(start='2014-12-31', end='2015-01-05')\n",
    "head_range"
   ]
  },
  {
   "cell_type": "code",
   "execution_count": 9,
   "id": "561e9af9",
   "metadata": {},
   "outputs": [
    {
     "data": {
      "text/html": [
       "<div>\n",
       "<style scoped>\n",
       "    .dataframe tbody tr th:only-of-type {\n",
       "        vertical-align: middle;\n",
       "    }\n",
       "\n",
       "    .dataframe tbody tr th {\n",
       "        vertical-align: top;\n",
       "    }\n",
       "\n",
       "    .dataframe thead th {\n",
       "        text-align: right;\n",
       "    }\n",
       "</style>\n",
       "<table border=\"1\" class=\"dataframe\">\n",
       "  <thead>\n",
       "    <tr style=\"text-align: right;\">\n",
       "      <th></th>\n",
       "      <th>Date</th>\n",
       "      <th>Day</th>\n",
       "      <th>Cases_Guinea</th>\n",
       "      <th>Cases_Liberia</th>\n",
       "      <th>Cases_SierraLeone</th>\n",
       "    </tr>\n",
       "    <tr>\n",
       "      <th>Date</th>\n",
       "      <th></th>\n",
       "      <th></th>\n",
       "      <th></th>\n",
       "      <th></th>\n",
       "      <th></th>\n",
       "    </tr>\n",
       "  </thead>\n",
       "  <tbody>\n",
       "    <tr>\n",
       "      <th>2015-01-05</th>\n",
       "      <td>2015-01-05</td>\n",
       "      <td>289</td>\n",
       "      <td>2776.0</td>\n",
       "      <td>NaN</td>\n",
       "      <td>10030.0</td>\n",
       "    </tr>\n",
       "    <tr>\n",
       "      <th>2015-01-04</th>\n",
       "      <td>2015-01-04</td>\n",
       "      <td>288</td>\n",
       "      <td>2775.0</td>\n",
       "      <td>NaN</td>\n",
       "      <td>9780.0</td>\n",
       "    </tr>\n",
       "    <tr>\n",
       "      <th>2015-01-03</th>\n",
       "      <td>2015-01-03</td>\n",
       "      <td>287</td>\n",
       "      <td>2769.0</td>\n",
       "      <td>8166.0</td>\n",
       "      <td>9722.0</td>\n",
       "    </tr>\n",
       "    <tr>\n",
       "      <th>2015-01-02</th>\n",
       "      <td>2015-01-02</td>\n",
       "      <td>286</td>\n",
       "      <td>NaN</td>\n",
       "      <td>8157.0</td>\n",
       "      <td>NaN</td>\n",
       "    </tr>\n",
       "    <tr>\n",
       "      <th>2014-12-31</th>\n",
       "      <td>2014-12-31</td>\n",
       "      <td>284</td>\n",
       "      <td>2730.0</td>\n",
       "      <td>8115.0</td>\n",
       "      <td>9633.0</td>\n",
       "    </tr>\n",
       "  </tbody>\n",
       "</table>\n",
       "</div>"
      ],
      "text/plain": [
       "                 Date  Day  Cases_Guinea  Cases_Liberia  Cases_SierraLeone\n",
       "Date                                                                      \n",
       "2015-01-05 2015-01-05  289        2776.0            NaN            10030.0\n",
       "2015-01-04 2015-01-04  288        2775.0            NaN             9780.0\n",
       "2015-01-03 2015-01-03  287        2769.0         8166.0             9722.0\n",
       "2015-01-02 2015-01-02  286           NaN         8157.0                NaN\n",
       "2014-12-31 2014-12-31  284        2730.0         8115.0             9633.0"
      ]
     },
     "execution_count": 9,
     "metadata": {},
     "output_type": "execute_result"
    }
   ],
   "source": [
    "ebola_5 = ebola.head( ) \n",
    "ebola_5.index = ebola_5['Date'] \n",
    "ebola_5.reindex(head_range) \n",
    "ebola_5.iloc[:5, :5]"
   ]
  }
 ],
 "metadata": {
  "kernelspec": {
   "display_name": "Python 3",
   "language": "python",
   "name": "python3"
  },
  "language_info": {
   "codemirror_mode": {
    "name": "ipython",
    "version": 3
   },
   "file_extension": ".py",
   "mimetype": "text/x-python",
   "name": "python",
   "nbconvert_exporter": "python",
   "pygments_lexer": "ipython3",
   "version": "3.8.8"
  }
 },
 "nbformat": 4,
 "nbformat_minor": 5
}
